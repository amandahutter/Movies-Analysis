{
 "cells": [
  {
   "cell_type": "code",
   "execution_count": 44,
   "metadata": {},
   "outputs": [],
   "source": [
    "import pandas as pd\n",
    "import numpy as np\n",
    "import matplotlib.pyplot as plt \n",
    "import os"
   ]
  },
  {
   "cell_type": "code",
   "execution_count": 45,
   "metadata": {},
   "outputs": [
    {
     "data": {
      "text/plain": [
       "['Movie_Rankings.csv',\n",
       " 'Movies.ipynb',\n",
       " 'Movies_2020.xlsx',\n",
       " '.DS_Store',\n",
       " 'Archive',\n",
       " 'Movies_Ranked.csv',\n",
       " 'Movies_Updated.ipynb',\n",
       " '.ipynb_checkpoints',\n",
       " 'Movies - Personal Inquiry.ipynb',\n",
       " 'Movies.csv',\n",
       " 'MLR_Movies.ipynb']"
      ]
     },
     "execution_count": 45,
     "metadata": {},
     "output_type": "execute_result"
    }
   ],
   "source": [
    "os.listdir()\n"
   ]
  },
  {
   "cell_type": "code",
   "execution_count": 46,
   "metadata": {},
   "outputs": [],
   "source": [
    "data = pd.read_excel('Movies_2020.xlsx'\n",
    "                     , \n",
    "                    dtype = {'ReleaseYear': int}\n",
    "                    )"
   ]
  },
  {
   "cell_type": "code",
   "execution_count": 47,
   "metadata": {},
   "outputs": [
    {
     "data": {
      "text/html": [
       "<div>\n",
       "<style scoped>\n",
       "    .dataframe tbody tr th:only-of-type {\n",
       "        vertical-align: middle;\n",
       "    }\n",
       "\n",
       "    .dataframe tbody tr th {\n",
       "        vertical-align: top;\n",
       "    }\n",
       "\n",
       "    .dataframe thead th {\n",
       "        text-align: right;\n",
       "    }\n",
       "</style>\n",
       "<table border=\"1\" class=\"dataframe\">\n",
       "  <thead>\n",
       "    <tr style=\"text-align: right;\">\n",
       "      <th></th>\n",
       "      <th>Name</th>\n",
       "      <th>Rating</th>\n",
       "      <th>WatchDate</th>\n",
       "      <th>ReleaseYear</th>\n",
       "      <th>Director</th>\n",
       "      <th>Genre</th>\n",
       "    </tr>\n",
       "  </thead>\n",
       "  <tbody>\n",
       "    <tr>\n",
       "      <th>0</th>\n",
       "      <td>Star Wars VII: The Force Awakens</td>\n",
       "      <td>0.85</td>\n",
       "      <td>2016-01-01</td>\n",
       "      <td>2015</td>\n",
       "      <td>Abrams</td>\n",
       "      <td>Fantasy/ScienceFiction</td>\n",
       "    </tr>\n",
       "    <tr>\n",
       "      <th>1</th>\n",
       "      <td>Hunger Games 3b</td>\n",
       "      <td>0.65</td>\n",
       "      <td>2016-01-04</td>\n",
       "      <td>2015</td>\n",
       "      <td>Lawrence</td>\n",
       "      <td>Fantasy/Drama</td>\n",
       "    </tr>\n",
       "    <tr>\n",
       "      <th>2</th>\n",
       "      <td>Along Came Polly</td>\n",
       "      <td>0.65</td>\n",
       "      <td>2016-01-08</td>\n",
       "      <td>2004</td>\n",
       "      <td>Hamburg</td>\n",
       "      <td>Romance/Comedy</td>\n",
       "    </tr>\n",
       "    <tr>\n",
       "      <th>3</th>\n",
       "      <td>Forrest Gump</td>\n",
       "      <td>0.95</td>\n",
       "      <td>2016-01-10</td>\n",
       "      <td>1994</td>\n",
       "      <td>Zemeckis</td>\n",
       "      <td>Comedy/Drama</td>\n",
       "    </tr>\n",
       "    <tr>\n",
       "      <th>4</th>\n",
       "      <td>The Big Short</td>\n",
       "      <td>0.95</td>\n",
       "      <td>2016-01-14</td>\n",
       "      <td>2015</td>\n",
       "      <td>McKay</td>\n",
       "      <td>Comedy/Drama</td>\n",
       "    </tr>\n",
       "  </tbody>\n",
       "</table>\n",
       "</div>"
      ],
      "text/plain": [
       "                               Name  Rating  WatchDate  ReleaseYear  Director  \\\n",
       "0  Star Wars VII: The Force Awakens    0.85 2016-01-01         2015    Abrams   \n",
       "1                   Hunger Games 3b    0.65 2016-01-04         2015  Lawrence   \n",
       "2                  Along Came Polly    0.65 2016-01-08         2004   Hamburg   \n",
       "3                      Forrest Gump    0.95 2016-01-10         1994  Zemeckis   \n",
       "4                     The Big Short    0.95 2016-01-14         2015     McKay   \n",
       "\n",
       "                    Genre  \n",
       "0  Fantasy/ScienceFiction  \n",
       "1           Fantasy/Drama  \n",
       "2          Romance/Comedy  \n",
       "3            Comedy/Drama  \n",
       "4            Comedy/Drama  "
      ]
     },
     "execution_count": 47,
     "metadata": {},
     "output_type": "execute_result"
    }
   ],
   "source": [
    "data.head()"
   ]
  },
  {
   "cell_type": "code",
   "execution_count": 57,
   "metadata": {},
   "outputs": [
    {
     "name": "stdout",
     "output_type": "stream",
     "text": [
      "There are  157  movies in this dataset\n"
     ]
    }
   ],
   "source": [
    "print(\"There are \",data.shape[0], \" movies in this dataset\")"
   ]
  },
  {
   "cell_type": "code",
   "execution_count": 48,
   "metadata": {},
   "outputs": [
    {
     "data": {
      "text/plain": [
       "Name                   object\n",
       "Rating                float64\n",
       "WatchDate      datetime64[ns]\n",
       "ReleaseYear             int64\n",
       "Director               object\n",
       "Genre                  object\n",
       "dtype: object"
      ]
     },
     "execution_count": 48,
     "metadata": {},
     "output_type": "execute_result"
    }
   ],
   "source": [
    "data.dtypes"
   ]
  },
  {
   "cell_type": "code",
   "execution_count": 49,
   "metadata": {},
   "outputs": [
    {
     "data": {
      "text/plain": [
       "Name           0\n",
       "Rating         0\n",
       "WatchDate      0\n",
       "ReleaseYear    0\n",
       "Director       0\n",
       "Genre          0\n",
       "dtype: int64"
      ]
     },
     "execution_count": 49,
     "metadata": {},
     "output_type": "execute_result"
    }
   ],
   "source": [
    "data.isna().sum()"
   ]
  },
  {
   "cell_type": "markdown",
   "metadata": {},
   "source": [
    "#### The movie watchings are skewed heavily toward recent movies, with some noticable peaks in 1950s (due to Hitchcock & Audrey Hepburn films)"
   ]
  },
  {
   "cell_type": "code",
   "execution_count": 50,
   "metadata": {},
   "outputs": [
    {
     "data": {
      "image/png": "[encoded data removed]",
      "text/plain": [
       "<Figure size 432x288 with 1 Axes>"
      ]
     },
     "metadata": {
      "needs_background": "light"
     },
     "output_type": "display_data"
    }
   ],
   "source": [
    "plt.hist(data['ReleaseYear'], bins = 20)\n",
    "plt.xlabel('Release Year')\n",
    "plt.title(\"Histogram of Release Years\")\n",
    "plt.show()"
   ]
  },
  {
   "cell_type": "markdown",
   "metadata": {},
   "source": [
    "#### The Ratings also show that I generally rate movies highly, this distribution is right-skewed as well"
   ]
  },
  {
   "cell_type": "code",
   "execution_count": 51,
   "metadata": {},
   "outputs": [
    {
     "data": {
      "text/plain": [
       "count    157.000000\n",
       "mean       0.795987\n",
       "std        0.132112\n",
       "min        0.300000\n",
       "25%        0.720000\n",
       "50%        0.850000\n",
       "75%        0.900000\n",
       "max        0.990000\n",
       "Name: Rating, dtype: float64"
      ]
     },
     "execution_count": 51,
     "metadata": {},
     "output_type": "execute_result"
    }
   ],
   "source": [
    "data['Rating'].describe()"
   ]
  },
  {
   "cell_type": "code",
   "execution_count": 52,
   "metadata": {},
   "outputs": [
    {
     "data": {
      "image/png": "[encoded data removed]",
      "text/plain": [
       "<Figure size 432x288 with 1 Axes>"
      ]
     },
     "metadata": {
      "needs_background": "light"
     },
     "output_type": "display_data"
    }
   ],
   "source": [
    "plt.hist(data['Rating'], bins = 20)\n",
    "plt.xlabel('Rating')\n",
    "plt.title(\"Histogram of Rating\")\n",
    "plt.show()"
   ]
  },
  {
   "cell_type": "markdown",
   "metadata": {},
   "source": [
    "#### My movie intake is quite high during the 2020 Global Covid-19 Pandemic. It also was pretty high in early 2016, as I was in my senior spring of college. This charts the quarterly sum of movies. "
   ]
  },
  {
   "cell_type": "code",
   "execution_count": 53,
   "metadata": {},
   "outputs": [
    {
     "data": {
      "image/png": "[encoded data removed]",
      "text/plain": [
       "<Figure size 432x288 with 1 Axes>"
      ]
     },
     "metadata": {
      "needs_background": "light"
     },
     "output_type": "display_data"
    }
   ],
   "source": [
    "plt.hist(data['WatchDate'], bins = 20)\n",
    "plt.xlabel('WatchDate')\n",
    "plt.title(\"Quarterly Histogram of WatchDate\")\n",
    "plt.show()"
   ]
  },
  {
   "cell_type": "code",
   "execution_count": 54,
   "metadata": {},
   "outputs": [
    {
     "data": {
      "image/png": "[encoded data removed]",
      "text/plain": [
       "<Figure size 432x288 with 1 Axes>"
      ]
     },
     "metadata": {
      "needs_background": "light"
     },
     "output_type": "display_data"
    }
   ],
   "source": [
    "plt.hist(data['WatchDate'], bins = 60)\n",
    "plt.xlabel('WatchDate')\n",
    "plt.title(\"Monthly Histogram of WatchDate\")\n",
    "plt.show()"
   ]
  },
  {
   "cell_type": "code",
   "execution_count": 55,
   "metadata": {},
   "outputs": [
    {
     "data": {
      "image/png": "[encoded data removed]",
      "text/plain": [
       "<Figure size 432x288 with 1 Axes>"
      ]
     },
     "metadata": {
      "needs_background": "light"
     },
     "output_type": "display_data"
    }
   ],
   "source": [
    "plt.hist(data['WatchDate'], bins = 5)\n",
    "plt.xlabel('WatchDate')\n",
    "plt.title(\"Yearly Histogram of WatchDate\")\n",
    "plt.show()"
   ]
  },
  {
   "cell_type": "code",
   "execution_count": null,
   "metadata": {},
   "outputs": [],
   "source": []
  },
  {
   "cell_type": "code",
   "execution_count": null,
   "metadata": {},
   "outputs": [],
   "source": []
  },
  {
   "cell_type": "code",
   "execution_count": null,
   "metadata": {},
   "outputs": [],
   "source": []
  }
 ],
 "metadata": {
  "kernelspec": {
   "display_name": "Python 3",
   "language": "python",
   "name": "python3"
  },
  "language_info": {
   "codemirror_mode": {
    "name": "ipython",
    "version": 3
   },
   "file_extension": ".py",
   "mimetype": "text/x-python",
   "name": "python",
   "nbconvert_exporter": "python",
   "pygments_lexer": "ipython3",
   "version": "3.7.9"
  }
 },
 "nbformat": 4,
 "nbformat_minor": 4
}
