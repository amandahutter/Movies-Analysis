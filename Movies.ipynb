{
 "cells": [
  {
   "cell_type": "code",
   "execution_count": 89,
   "metadata": {},
   "outputs": [],
   "source": [
    "import pandas as pd\n",
    "import numpy as np\n",
    "import matplotlib.pyplot as plt \n",
    "import os\n",
    "import matplotlib.ticker as mtick\n",
    "\n",
    "pd.set_option('display.max_rows', None)\n",
    "pd.set_option('display.max_columns', None)\n",
    "\n",
    "import re\n",
    "\n",
    "\n",
    "from sklearn.model_selection import train_test_split\n",
    "\n",
    "# K Means Clustering\n",
    "from sklearn.cluster import KMeans \n",
    "from sklearn.metrics import silhouette_samples, silhouette_score\n",
    "\n",
    "# DT \n",
    "from sklearn.tree import DecisionTreeRegressor\n",
    "from sklearn.metrics import r2_score, mean_squared_error\n",
    "from sklearn.model_selection import GridSearchCV \n"
   ]
  },
  {
   "cell_type": "code",
   "execution_count": 2,
   "metadata": {},
   "outputs": [
    {
     "data": {
      "text/plain": [
       "['Movie_Rankings.csv',\n",
       " 'Movies.ipynb',\n",
       " 'Movies_2020.xlsx',\n",
       " '.DS_Store',\n",
       " 'Archive',\n",
       " 'Movies_Ranked.csv',\n",
       " 'Movies_Updated.ipynb',\n",
       " '.ipynb_checkpoints',\n",
       " 'Movies - Personal Inquiry.ipynb',\n",
       " 'Movies.csv',\n",
       " 'MLR_Movies.ipynb']"
      ]
     },
     "execution_count": 2,
     "metadata": {},
     "output_type": "execute_result"
    }
   ],
   "source": [
    "os.listdir()\n"
   ]
  },
  {
   "cell_type": "code",
   "execution_count": 3,
   "metadata": {},
   "outputs": [],
   "source": [
    "data = pd.read_excel('Movies_2020.xlsx', \n",
    "                    dtype = {'ReleaseYear': int}\n",
    "                    )"
   ]
  },
  {
   "cell_type": "code",
   "execution_count": 4,
   "metadata": {},
   "outputs": [
    {
     "data": {
      "text/html": [
       "<div>\n",
       "<style scoped>\n",
       "    .dataframe tbody tr th:only-of-type {\n",
       "        vertical-align: middle;\n",
       "    }\n",
       "\n",
       "    .dataframe tbody tr th {\n",
       "        vertical-align: top;\n",
       "    }\n",
       "\n",
       "    .dataframe thead th {\n",
       "        text-align: right;\n",
       "    }\n",
       "</style>\n",
       "<table border=\"1\" class=\"dataframe\">\n",
       "  <thead>\n",
       "    <tr style=\"text-align: right;\">\n",
       "      <th></th>\n",
       "      <th>Name</th>\n",
       "      <th>Rating</th>\n",
       "      <th>WatchDate</th>\n",
       "      <th>ReleaseYear</th>\n",
       "      <th>Director</th>\n",
       "      <th>Genre</th>\n",
       "    </tr>\n",
       "  </thead>\n",
       "  <tbody>\n",
       "    <tr>\n",
       "      <th>0</th>\n",
       "      <td>Star Wars VII: The Force Awakens</td>\n",
       "      <td>0.85</td>\n",
       "      <td>2016-01-01</td>\n",
       "      <td>2015</td>\n",
       "      <td>Abrams</td>\n",
       "      <td>Fantasy/ScienceFiction</td>\n",
       "    </tr>\n",
       "    <tr>\n",
       "      <th>1</th>\n",
       "      <td>Hunger Games 3b</td>\n",
       "      <td>0.65</td>\n",
       "      <td>2016-01-04</td>\n",
       "      <td>2015</td>\n",
       "      <td>Lawrence</td>\n",
       "      <td>Fantasy/Drama</td>\n",
       "    </tr>\n",
       "    <tr>\n",
       "      <th>2</th>\n",
       "      <td>Along Came Polly</td>\n",
       "      <td>0.65</td>\n",
       "      <td>2016-01-08</td>\n",
       "      <td>2004</td>\n",
       "      <td>Hamburg</td>\n",
       "      <td>Romance/Comedy</td>\n",
       "    </tr>\n",
       "    <tr>\n",
       "      <th>3</th>\n",
       "      <td>Forrest Gump</td>\n",
       "      <td>0.95</td>\n",
       "      <td>2016-01-10</td>\n",
       "      <td>1994</td>\n",
       "      <td>Zemeckis</td>\n",
       "      <td>Comedy/Drama</td>\n",
       "    </tr>\n",
       "    <tr>\n",
       "      <th>4</th>\n",
       "      <td>The Big Short</td>\n",
       "      <td>0.95</td>\n",
       "      <td>2016-01-14</td>\n",
       "      <td>2015</td>\n",
       "      <td>McKay</td>\n",
       "      <td>Comedy/Drama</td>\n",
       "    </tr>\n",
       "  </tbody>\n",
       "</table>\n",
       "</div>"
      ],
      "text/plain": [
       "                               Name  Rating  WatchDate  ReleaseYear  Director  \\\n",
       "0  Star Wars VII: The Force Awakens    0.85 2016-01-01         2015    Abrams   \n",
       "1                   Hunger Games 3b    0.65 2016-01-04         2015  Lawrence   \n",
       "2                  Along Came Polly    0.65 2016-01-08         2004   Hamburg   \n",
       "3                      Forrest Gump    0.95 2016-01-10         1994  Zemeckis   \n",
       "4                     The Big Short    0.95 2016-01-14         2015     McKay   \n",
       "\n",
       "                    Genre  \n",
       "0  Fantasy/ScienceFiction  \n",
       "1           Fantasy/Drama  \n",
       "2          Romance/Comedy  \n",
       "3            Comedy/Drama  \n",
       "4            Comedy/Drama  "
      ]
     },
     "execution_count": 4,
     "metadata": {},
     "output_type": "execute_result"
    }
   ],
   "source": [
    "data.head()"
   ]
  },
  {
   "cell_type": "code",
   "execution_count": 5,
   "metadata": {},
   "outputs": [
    {
     "name": "stdout",
     "output_type": "stream",
     "text": [
      "There are  157  movies in this dataset\n"
     ]
    }
   ],
   "source": [
    "print(\"There are \",data.shape[0], \" movies in this dataset\")"
   ]
  },
  {
   "cell_type": "code",
   "execution_count": 6,
   "metadata": {},
   "outputs": [
    {
     "data": {
      "text/plain": [
       "Name                   object\n",
       "Rating                float64\n",
       "WatchDate      datetime64[ns]\n",
       "ReleaseYear             int64\n",
       "Director               object\n",
       "Genre                  object\n",
       "dtype: object"
      ]
     },
     "execution_count": 6,
     "metadata": {},
     "output_type": "execute_result"
    }
   ],
   "source": [
    "data.dtypes"
   ]
  },
  {
   "cell_type": "code",
   "execution_count": 7,
   "metadata": {},
   "outputs": [
    {
     "data": {
      "text/plain": [
       "Name           0\n",
       "Rating         0\n",
       "WatchDate      0\n",
       "ReleaseYear    0\n",
       "Director       0\n",
       "Genre          0\n",
       "dtype: int64"
      ]
     },
     "execution_count": 7,
     "metadata": {},
     "output_type": "execute_result"
    }
   ],
   "source": [
    "data.isna().sum()"
   ]
  },
  {
   "cell_type": "markdown",
   "metadata": {},
   "source": [
    "#### The movie watchings are skewed heavily toward recent movies, with some noticable peaks in 1950s (due to Hitchcock & Audrey Hepburn films)"
   ]
  },
  {
   "cell_type": "code",
   "execution_count": 8,
   "metadata": {},
   "outputs": [
    {
     "data": {
      "image/png": "[encoded data removed]",
      "text/plain": [
       "<Figure size 432x288 with 1 Axes>"
      ]
     },
     "metadata": {
      "needs_background": "light"
     },
     "output_type": "display_data"
    }
   ],
   "source": [
    "plt.hist(data['ReleaseYear'], bins = 20)\n",
    "plt.xlabel('Release Year')\n",
    "plt.title(\"Histogram of Release Years\")\n",
    "plt.show()"
   ]
  },
  {
   "cell_type": "markdown",
   "metadata": {},
   "source": [
    "#### The Ratings also show that I generally rate movies highly, this distribution is right-skewed as well"
   ]
  },
  {
   "cell_type": "code",
   "execution_count": 9,
   "metadata": {},
   "outputs": [
    {
     "data": {
      "text/plain": [
       "count    157.000000\n",
       "mean       0.795987\n",
       "std        0.132112\n",
       "min        0.300000\n",
       "25%        0.720000\n",
       "50%        0.850000\n",
       "75%        0.900000\n",
       "max        0.990000\n",
       "Name: Rating, dtype: float64"
      ]
     },
     "execution_count": 9,
     "metadata": {},
     "output_type": "execute_result"
    }
   ],
   "source": [
    "data['Rating'].describe()"
   ]
  },
  {
   "cell_type": "code",
   "execution_count": 10,
   "metadata": {},
   "outputs": [
    {
     "data": {
      "image/png": "[encoded data removed]",
      "text/plain": [
       "<Figure size 432x288 with 1 Axes>"
      ]
     },
     "metadata": {
      "needs_background": "light"
     },
     "output_type": "display_data"
    }
   ],
   "source": [
    "plt.hist(data['Rating'], bins = 20)\n",
    "plt.xlabel('Rating')\n",
    "plt.title(\"Histogram of Rating\")\n",
    "plt.gca().xaxis.set_major_formatter(mtick.PercentFormatter(1))\n",
    "\n",
    "plt.show()"
   ]
  },
  {
   "cell_type": "markdown",
   "metadata": {},
   "source": [
    "#### My movie intake is quite high during the 2020 Global Covid-19 Pandemic. It also was pretty high in early 2016, as I was in my senior spring of college. This charts the quarterly sum of movies. "
   ]
  },
  {
   "cell_type": "code",
   "execution_count": 11,
   "metadata": {},
   "outputs": [
    {
     "data": {
      "image/png": "[encoded data removed]",
      "text/plain": [
       "<Figure size 432x288 with 1 Axes>"
      ]
     },
     "metadata": {
      "needs_background": "light"
     },
     "output_type": "display_data"
    }
   ],
   "source": [
    "plt.hist(data['WatchDate'], bins = 20)\n",
    "plt.xlabel('WatchDate')\n",
    "plt.title(\"Quarterly Histogram of WatchDate\")\n",
    "plt.show()"
   ]
  },
  {
   "cell_type": "code",
   "execution_count": 12,
   "metadata": {},
   "outputs": [
    {
     "data": {
      "image/png": "[encoded data removed]",
      "text/plain": [
       "<Figure size 432x288 with 1 Axes>"
      ]
     },
     "metadata": {
      "needs_background": "light"
     },
     "output_type": "display_data"
    }
   ],
   "source": [
    "plt.hist(data['WatchDate'], bins = 60)\n",
    "plt.xlabel('WatchDate')\n",
    "plt.title(\"Monthly Histogram of WatchDate\")\n",
    "plt.show()"
   ]
  },
  {
   "cell_type": "code",
   "execution_count": 13,
   "metadata": {},
   "outputs": [
    {
     "data": {
      "image/png": "[encoded data removed]",
      "text/plain": [
       "<Figure size 432x288 with 1 Axes>"
      ]
     },
     "metadata": {
      "needs_background": "light"
     },
     "output_type": "display_data"
    }
   ],
   "source": [
    "plt.hist(data['WatchDate'], bins = 5)\n",
    "plt.xlabel('WatchDate')\n",
    "plt.title(\"Yearly Histogram of WatchDate\")\n",
    "plt.show()"
   ]
  },
  {
   "cell_type": "markdown",
   "metadata": {},
   "source": [
    "#### What is my average rating over time?"
   ]
  },
  {
   "cell_type": "code",
   "execution_count": 14,
   "metadata": {},
   "outputs": [
    {
     "data": {
      "image/png": "[encoded data removed]",
      "text/plain": [
       "<Figure size 432x288 with 1 Axes>"
      ]
     },
     "metadata": {
      "needs_background": "light"
     },
     "output_type": "display_data"
    }
   ],
   "source": [
    "plt.scatter(data['WatchDate'], data['Rating'])\n",
    "plt.title(\"Scatterplot of the Effect of Time on Rating\")\n",
    "plt.ylabel('Rating')\n",
    "plt.ylim(0,1)\n",
    "plt.gca().yaxis.set_major_formatter(mtick.PercentFormatter(1))\n",
    "plt.show()"
   ]
  },
  {
   "cell_type": "markdown",
   "metadata": {},
   "source": [
    "#### Am I watching newer movies over time?"
   ]
  },
  {
   "cell_type": "code",
   "execution_count": 15,
   "metadata": {},
   "outputs": [
    {
     "data": {
      "image/png": "[encoded data removed]",
      "text/plain": [
       "<Figure size 432x288 with 1 Axes>"
      ]
     },
     "metadata": {
      "needs_background": "light"
     },
     "output_type": "display_data"
    }
   ],
   "source": [
    "plt.scatter(data['WatchDate'], data['ReleaseYear'])\n",
    "plt.title(\"Scatterplot of the Effect of Time on Movie Release Year\")\n",
    "plt.ylabel('Release Year')\n",
    "plt.show()"
   ]
  },
  {
   "cell_type": "markdown",
   "metadata": {},
   "source": [
    "#### Create a Monthly Aggregation to Summarize Trends"
   ]
  },
  {
   "cell_type": "code",
   "execution_count": 16,
   "metadata": {},
   "outputs": [
    {
     "data": {
      "text/html": [
       "<div>\n",
       "<style scoped>\n",
       "    .dataframe tbody tr th:only-of-type {\n",
       "        vertical-align: middle;\n",
       "    }\n",
       "\n",
       "    .dataframe tbody tr th {\n",
       "        vertical-align: top;\n",
       "    }\n",
       "\n",
       "    .dataframe thead th {\n",
       "        text-align: right;\n",
       "    }\n",
       "</style>\n",
       "<table border=\"1\" class=\"dataframe\">\n",
       "  <thead>\n",
       "    <tr style=\"text-align: right;\">\n",
       "      <th></th>\n",
       "      <th>WatchMonth</th>\n",
       "      <th>count</th>\n",
       "      <th>rating</th>\n",
       "      <th>movieyear</th>\n",
       "    </tr>\n",
       "  </thead>\n",
       "  <tbody>\n",
       "    <tr>\n",
       "      <th>0</th>\n",
       "      <td>2016-01-01</td>\n",
       "      <td>10</td>\n",
       "      <td>0.720000</td>\n",
       "      <td>1994.30</td>\n",
       "    </tr>\n",
       "    <tr>\n",
       "      <th>1</th>\n",
       "      <td>2016-02-01</td>\n",
       "      <td>3</td>\n",
       "      <td>0.883333</td>\n",
       "      <td>2011.00</td>\n",
       "    </tr>\n",
       "    <tr>\n",
       "      <th>2</th>\n",
       "      <td>2016-03-01</td>\n",
       "      <td>5</td>\n",
       "      <td>0.720000</td>\n",
       "      <td>1984.00</td>\n",
       "    </tr>\n",
       "    <tr>\n",
       "      <th>3</th>\n",
       "      <td>2016-06-01</td>\n",
       "      <td>4</td>\n",
       "      <td>0.825000</td>\n",
       "      <td>1966.75</td>\n",
       "    </tr>\n",
       "    <tr>\n",
       "      <th>4</th>\n",
       "      <td>2016-07-01</td>\n",
       "      <td>6</td>\n",
       "      <td>0.700000</td>\n",
       "      <td>1996.00</td>\n",
       "    </tr>\n",
       "  </tbody>\n",
       "</table>\n",
       "</div>"
      ],
      "text/plain": [
       "  WatchMonth  count    rating  movieyear\n",
       "0 2016-01-01     10  0.720000    1994.30\n",
       "1 2016-02-01      3  0.883333    2011.00\n",
       "2 2016-03-01      5  0.720000    1984.00\n",
       "3 2016-06-01      4  0.825000    1966.75\n",
       "4 2016-07-01      6  0.700000    1996.00"
      ]
     },
     "execution_count": 16,
     "metadata": {},
     "output_type": "execute_result"
    }
   ],
   "source": [
    "\n",
    "data['WatchMonth'] = data['WatchDate'].values.astype('datetime64[M]')\n",
    "\n",
    "data_month = data.groupby(['WatchMonth']).agg(\n",
    "                    count = pd.NamedAgg( column = 'Name', aggfunc = 'count'),\n",
    "                    rating = pd.NamedAgg( column = 'Rating', aggfunc = 'mean'),\n",
    "                    movieyear = pd.NamedAgg( column = 'ReleaseYear', aggfunc = 'mean')\n",
    "                )\n",
    "data_month = data_month.reset_index()\n",
    "#data_month.rename(columns = {'Name':'Count'}, inplace = True)\n",
    "data_month.head()\n"
   ]
  },
  {
   "cell_type": "code",
   "execution_count": null,
   "metadata": {},
   "outputs": [],
   "source": []
  },
  {
   "cell_type": "code",
   "execution_count": 17,
   "metadata": {},
   "outputs": [
    {
     "data": {
      "image/png": "[encoded data removed]",
      "text/plain": [
       "<Figure size 432x288 with 1 Axes>"
      ]
     },
     "metadata": {
      "needs_background": "light"
     },
     "output_type": "display_data"
    }
   ],
   "source": [
    "plt.bar(data_month['WatchMonth'], data_month['count'], width = 20)\n",
    "plt.xlabel('Month Movie Watched')\n",
    "plt.ylabel('Monthly Count of Movies')\n",
    "plt.title('Monthly Count of Movies Watched')\n",
    "plt.show()"
   ]
  },
  {
   "cell_type": "code",
   "execution_count": 18,
   "metadata": {},
   "outputs": [
    {
     "data": {
      "image/png": "[encoded data removed]",
      "text/plain": [
       "<Figure size 432x288 with 1 Axes>"
      ]
     },
     "metadata": {
      "needs_background": "light"
     },
     "output_type": "display_data"
    }
   ],
   "source": [
    "plt.plot(data_month['WatchMonth'], data_month['rating'])\n",
    "plt.title('Monthly Average Rating of Movies')\n",
    "plt.xlabel('Month Watched')\n",
    "plt.ylabel('Monthly Average Rating')\n",
    "plt.show()"
   ]
  },
  {
   "cell_type": "code",
   "execution_count": 19,
   "metadata": {},
   "outputs": [
    {
     "data": {
      "image/png": "[encoded data removed]",
      "text/plain": [
       "<Figure size 432x288 with 1 Axes>"
      ]
     },
     "metadata": {
      "needs_background": "light"
     },
     "output_type": "display_data"
    }
   ],
   "source": [
    "plt.plot(data_month['WatchMonth'], data_month['movieyear'])\n",
    "plt.title('Monthly Average Release Year of Movies')\n",
    "plt.xlabel('Month Watched')\n",
    "plt.ylabel('Monthly Average Release Year')\n",
    "plt.show()"
   ]
  },
  {
   "cell_type": "markdown",
   "metadata": {},
   "source": [
    "#### Is there a relationship between Year of the Movie Release and my Rating?"
   ]
  },
  {
   "cell_type": "code",
   "execution_count": 20,
   "metadata": {},
   "outputs": [
    {
     "data": {
      "image/png": "[encoded data removed]",
      "text/plain": [
       "<Figure size 432x288 with 1 Axes>"
      ]
     },
     "metadata": {
      "needs_background": "light"
     },
     "output_type": "display_data"
    }
   ],
   "source": [
    "plt.scatter(data['ReleaseYear'], data['Rating'])\n",
    "plt.title('Scatterplot of the Effect of Release Year on Rating')\n",
    "plt.xlabel('Release Year')\n",
    "plt.ylabel('Rating')\n",
    "plt.ylim(0,1)\n",
    "plt.gca().yaxis.set_major_formatter(mtick.PercentFormatter(1))\n",
    "plt.show()"
   ]
  },
  {
   "cell_type": "markdown",
   "metadata": {},
   "source": [
    "#### What are my highest rated movies?"
   ]
  },
  {
   "cell_type": "code",
   "execution_count": 21,
   "metadata": {},
   "outputs": [
    {
     "data": {
      "text/html": [
       "<div>\n",
       "<style scoped>\n",
       "    .dataframe tbody tr th:only-of-type {\n",
       "        vertical-align: middle;\n",
       "    }\n",
       "\n",
       "    .dataframe tbody tr th {\n",
       "        vertical-align: top;\n",
       "    }\n",
       "\n",
       "    .dataframe thead th {\n",
       "        text-align: right;\n",
       "    }\n",
       "</style>\n",
       "<table border=\"1\" class=\"dataframe\">\n",
       "  <thead>\n",
       "    <tr style=\"text-align: right;\">\n",
       "      <th></th>\n",
       "      <th>Name</th>\n",
       "      <th>Rating</th>\n",
       "      <th>WatchDate</th>\n",
       "      <th>ReleaseYear</th>\n",
       "      <th>Director</th>\n",
       "      <th>Genre</th>\n",
       "      <th>WatchMonth</th>\n",
       "    </tr>\n",
       "  </thead>\n",
       "  <tbody>\n",
       "    <tr>\n",
       "      <th>120</th>\n",
       "      <td>Hidden figures</td>\n",
       "      <td>0.95</td>\n",
       "      <td>2020-04-10</td>\n",
       "      <td>2016</td>\n",
       "      <td>Theodore Melfi</td>\n",
       "      <td>Drama/History</td>\n",
       "      <td>2020-04-01</td>\n",
       "    </tr>\n",
       "    <tr>\n",
       "      <th>105</th>\n",
       "      <td>The Farewell</td>\n",
       "      <td>0.95</td>\n",
       "      <td>2019-08-17</td>\n",
       "      <td>2019</td>\n",
       "      <td>Lulu Wang</td>\n",
       "      <td>Drama/Comedy</td>\n",
       "      <td>2019-08-01</td>\n",
       "    </tr>\n",
       "    <tr>\n",
       "      <th>126</th>\n",
       "      <td>The rear window</td>\n",
       "      <td>0.96</td>\n",
       "      <td>2020-05-05</td>\n",
       "      <td>1954</td>\n",
       "      <td>Alfred Hitchcock</td>\n",
       "      <td>Noir/Mystery</td>\n",
       "      <td>2020-05-01</td>\n",
       "    </tr>\n",
       "    <tr>\n",
       "      <th>75</th>\n",
       "      <td>Colette</td>\n",
       "      <td>0.99</td>\n",
       "      <td>2018-10-12</td>\n",
       "      <td>2018</td>\n",
       "      <td>Wash Westmoreland</td>\n",
       "      <td>Historical/Drama</td>\n",
       "      <td>2018-10-01</td>\n",
       "    </tr>\n",
       "    <tr>\n",
       "      <th>83</th>\n",
       "      <td>On The Basis of Sex</td>\n",
       "      <td>0.99</td>\n",
       "      <td>2019-01-06</td>\n",
       "      <td>2017</td>\n",
       "      <td>Mimi Leder</td>\n",
       "      <td>Historical/Drama</td>\n",
       "      <td>2019-01-01</td>\n",
       "    </tr>\n",
       "  </tbody>\n",
       "</table>\n",
       "</div>"
      ],
      "text/plain": [
       "                    Name  Rating  WatchDate  ReleaseYear           Director  \\\n",
       "120       Hidden figures    0.95 2020-04-10         2016     Theodore Melfi   \n",
       "105         The Farewell    0.95 2019-08-17         2019          Lulu Wang   \n",
       "126      The rear window    0.96 2020-05-05         1954   Alfred Hitchcock   \n",
       "75               Colette    0.99 2018-10-12         2018  Wash Westmoreland   \n",
       "83   On The Basis of Sex    0.99 2019-01-06         2017         Mimi Leder   \n",
       "\n",
       "                Genre WatchMonth  \n",
       "120     Drama/History 2020-04-01  \n",
       "105      Drama/Comedy 2019-08-01  \n",
       "126      Noir/Mystery 2020-05-01  \n",
       "75   Historical/Drama 2018-10-01  \n",
       "83   Historical/Drama 2019-01-01  "
      ]
     },
     "execution_count": 21,
     "metadata": {},
     "output_type": "execute_result"
    }
   ],
   "source": [
    "data.sort_values(by=['Rating']).tail(5)"
   ]
  },
  {
   "cell_type": "markdown",
   "metadata": {},
   "source": [
    "#### Which Director have I seen the most movies from?"
   ]
  },
  {
   "cell_type": "code",
   "execution_count": 22,
   "metadata": {},
   "outputs": [
    {
     "data": {
      "text/plain": [
       "Hitchcock            6\n",
       "Robert Zemeckis      4\n",
       "Michael Curtiz       4\n",
       "Sylvester Stalone    3\n",
       "Damien Chazelle      3\n",
       "Name: Director, dtype: int64"
      ]
     },
     "execution_count": 22,
     "metadata": {},
     "output_type": "execute_result"
    }
   ],
   "source": [
    "data['Director'].value_counts().head()"
   ]
  },
  {
   "cell_type": "code",
   "execution_count": null,
   "metadata": {},
   "outputs": [],
   "source": []
  },
  {
   "cell_type": "markdown",
   "metadata": {},
   "source": [
    "### Label Encoding the Genre Column "
   ]
  },
  {
   "cell_type": "code",
   "execution_count": 23,
   "metadata": {},
   "outputs": [],
   "source": [
    "data[['Genre1','Genre2']] = data['Genre'].str.split('/',expand=True)"
   ]
  },
  {
   "cell_type": "code",
   "execution_count": 56,
   "metadata": {},
   "outputs": [
    {
     "data": {
      "text/html": [
       "<div>\n",
       "<style scoped>\n",
       "    .dataframe tbody tr th:only-of-type {\n",
       "        vertical-align: middle;\n",
       "    }\n",
       "\n",
       "    .dataframe tbody tr th {\n",
       "        vertical-align: top;\n",
       "    }\n",
       "\n",
       "    .dataframe thead th {\n",
       "        text-align: right;\n",
       "    }\n",
       "</style>\n",
       "<table border=\"1\" class=\"dataframe\">\n",
       "  <thead>\n",
       "    <tr style=\"text-align: right;\">\n",
       "      <th></th>\n",
       "      <th>Name</th>\n",
       "      <th>Rating</th>\n",
       "      <th>WatchDate</th>\n",
       "      <th>ReleaseYear</th>\n",
       "      <th>Director</th>\n",
       "      <th>Genre</th>\n",
       "      <th>WatchMonth</th>\n",
       "      <th>Genre1</th>\n",
       "      <th>Genre2</th>\n",
       "      <th>Romance_Ind</th>\n",
       "      <th>Comedy_Ind</th>\n",
       "      <th>Drama_Ind</th>\n",
       "      <th>Thriller_Ind</th>\n",
       "      <th>Fantasy_Ind</th>\n",
       "      <th>Crime_Ind</th>\n",
       "      <th>Sport_Ind</th>\n",
       "      <th>Historical_Ind</th>\n",
       "      <th>Mystery_Ind</th>\n",
       "      <th>Action_Ind</th>\n",
       "      <th>Musical_Ind</th>\n",
       "      <th>SciFi_Ind</th>\n",
       "      <th>Other_Ind</th>\n",
       "    </tr>\n",
       "  </thead>\n",
       "  <tbody>\n",
       "    <tr>\n",
       "      <th>0</th>\n",
       "      <td>Star Wars VII: The Force Awakens</td>\n",
       "      <td>0.85</td>\n",
       "      <td>2016-01-01</td>\n",
       "      <td>2015</td>\n",
       "      <td>Abrams</td>\n",
       "      <td>Fantasy/ScienceFiction</td>\n",
       "      <td>2016-01-01</td>\n",
       "      <td>Fantasy</td>\n",
       "      <td>ScienceFiction</td>\n",
       "      <td>0</td>\n",
       "      <td>0</td>\n",
       "      <td>0</td>\n",
       "      <td>0</td>\n",
       "      <td>1</td>\n",
       "      <td>0</td>\n",
       "      <td>0</td>\n",
       "      <td>0</td>\n",
       "      <td>0</td>\n",
       "      <td>0</td>\n",
       "      <td>0</td>\n",
       "      <td>1</td>\n",
       "      <td>0</td>\n",
       "    </tr>\n",
       "    <tr>\n",
       "      <th>1</th>\n",
       "      <td>Hunger Games 3b</td>\n",
       "      <td>0.65</td>\n",
       "      <td>2016-01-04</td>\n",
       "      <td>2015</td>\n",
       "      <td>Lawrence</td>\n",
       "      <td>Fantasy/Drama</td>\n",
       "      <td>2016-01-01</td>\n",
       "      <td>Fantasy</td>\n",
       "      <td>Drama</td>\n",
       "      <td>0</td>\n",
       "      <td>0</td>\n",
       "      <td>1</td>\n",
       "      <td>0</td>\n",
       "      <td>1</td>\n",
       "      <td>0</td>\n",
       "      <td>0</td>\n",
       "      <td>0</td>\n",
       "      <td>0</td>\n",
       "      <td>0</td>\n",
       "      <td>0</td>\n",
       "      <td>0</td>\n",
       "      <td>0</td>\n",
       "    </tr>\n",
       "    <tr>\n",
       "      <th>2</th>\n",
       "      <td>Along Came Polly</td>\n",
       "      <td>0.65</td>\n",
       "      <td>2016-01-08</td>\n",
       "      <td>2004</td>\n",
       "      <td>Hamburg</td>\n",
       "      <td>Romance/Comedy</td>\n",
       "      <td>2016-01-01</td>\n",
       "      <td>Romance</td>\n",
       "      <td>Comedy</td>\n",
       "      <td>1</td>\n",
       "      <td>1</td>\n",
       "      <td>0</td>\n",
       "      <td>0</td>\n",
       "      <td>0</td>\n",
       "      <td>0</td>\n",
       "      <td>0</td>\n",
       "      <td>0</td>\n",
       "      <td>0</td>\n",
       "      <td>0</td>\n",
       "      <td>0</td>\n",
       "      <td>0</td>\n",
       "      <td>0</td>\n",
       "    </tr>\n",
       "    <tr>\n",
       "      <th>3</th>\n",
       "      <td>Forrest Gump</td>\n",
       "      <td>0.95</td>\n",
       "      <td>2016-01-10</td>\n",
       "      <td>1994</td>\n",
       "      <td>Zemeckis</td>\n",
       "      <td>Comedy/Drama</td>\n",
       "      <td>2016-01-01</td>\n",
       "      <td>Comedy</td>\n",
       "      <td>Drama</td>\n",
       "      <td>0</td>\n",
       "      <td>1</td>\n",
       "      <td>1</td>\n",
       "      <td>0</td>\n",
       "      <td>0</td>\n",
       "      <td>0</td>\n",
       "      <td>0</td>\n",
       "      <td>0</td>\n",
       "      <td>0</td>\n",
       "      <td>0</td>\n",
       "      <td>0</td>\n",
       "      <td>0</td>\n",
       "      <td>0</td>\n",
       "    </tr>\n",
       "    <tr>\n",
       "      <th>4</th>\n",
       "      <td>The Big Short</td>\n",
       "      <td>0.95</td>\n",
       "      <td>2016-01-14</td>\n",
       "      <td>2015</td>\n",
       "      <td>McKay</td>\n",
       "      <td>Comedy/Drama</td>\n",
       "      <td>2016-01-01</td>\n",
       "      <td>Comedy</td>\n",
       "      <td>Drama</td>\n",
       "      <td>0</td>\n",
       "      <td>1</td>\n",
       "      <td>1</td>\n",
       "      <td>0</td>\n",
       "      <td>0</td>\n",
       "      <td>0</td>\n",
       "      <td>0</td>\n",
       "      <td>0</td>\n",
       "      <td>0</td>\n",
       "      <td>0</td>\n",
       "      <td>0</td>\n",
       "      <td>0</td>\n",
       "      <td>0</td>\n",
       "    </tr>\n",
       "  </tbody>\n",
       "</table>\n",
       "</div>"
      ],
      "text/plain": [
       "                               Name  Rating  WatchDate  ReleaseYear  Director  \\\n",
       "0  Star Wars VII: The Force Awakens    0.85 2016-01-01         2015    Abrams   \n",
       "1                   Hunger Games 3b    0.65 2016-01-04         2015  Lawrence   \n",
       "2                  Along Came Polly    0.65 2016-01-08         2004   Hamburg   \n",
       "3                      Forrest Gump    0.95 2016-01-10         1994  Zemeckis   \n",
       "4                     The Big Short    0.95 2016-01-14         2015     McKay   \n",
       "\n",
       "                    Genre WatchMonth   Genre1          Genre2  Romance_Ind  \\\n",
       "0  Fantasy/ScienceFiction 2016-01-01  Fantasy  ScienceFiction            0   \n",
       "1           Fantasy/Drama 2016-01-01  Fantasy           Drama            0   \n",
       "2          Romance/Comedy 2016-01-01  Romance          Comedy            1   \n",
       "3            Comedy/Drama 2016-01-01   Comedy           Drama            0   \n",
       "4            Comedy/Drama 2016-01-01   Comedy           Drama            0   \n",
       "\n",
       "   Comedy_Ind  Drama_Ind  Thriller_Ind  Fantasy_Ind  Crime_Ind  Sport_Ind  \\\n",
       "0           0          0             0            1          0          0   \n",
       "1           0          1             0            1          0          0   \n",
       "2           1          0             0            0          0          0   \n",
       "3           1          1             0            0          0          0   \n",
       "4           1          1             0            0          0          0   \n",
       "\n",
       "   Historical_Ind  Mystery_Ind  Action_Ind  Musical_Ind  SciFi_Ind  Other_Ind  \n",
       "0               0            0           0            0          1          0  \n",
       "1               0            0           0            0          0          0  \n",
       "2               0            0           0            0          0          0  \n",
       "3               0            0           0            0          0          0  \n",
       "4               0            0           0            0          0          0  "
      ]
     },
     "execution_count": 56,
     "metadata": {},
     "output_type": "execute_result"
    }
   ],
   "source": [
    "data.head()"
   ]
  },
  {
   "cell_type": "markdown",
   "metadata": {},
   "source": [
    "Due to the mispellings in the underlying dataset, do manual combinations to reduce the dimensionality of the dataset"
   ]
  },
  {
   "cell_type": "code",
   "execution_count": 57,
   "metadata": {},
   "outputs": [],
   "source": [
    "#data['Genre1'].value_counts()"
   ]
  },
  {
   "cell_type": "code",
   "execution_count": 58,
   "metadata": {},
   "outputs": [],
   "source": [
    "#data['Genre2'].value_counts()"
   ]
  },
  {
   "cell_type": "code",
   "execution_count": 59,
   "metadata": {},
   "outputs": [],
   "source": [
    "#data['Genre_Romance'] = 0\n",
    "#data.loc[ data['Genre'].str.contains('Romance'), 'Genre_Romance'] = 1\n",
    "\n",
    "\n",
    "data['Romance_Ind'] = 0 \n",
    "r = re.compile(r'.*(Romance).*')\n",
    "data.loc[ data.Genre.apply(lambda x: bool(r.match(x))), 'Romance_Ind'] = 1\n",
    "  \n",
    "data['Comedy_Ind'] = 0 \n",
    "r = re.compile(r'.*(Comedy).*')\n",
    "data.loc[ data.Genre.apply(lambda x: bool(r.match(x))), 'Comedy_Ind'] = 1\n",
    " \n",
    "data['Drama_Ind'] = 0 \n",
    "r = re.compile(r'.*(Drama).*')\n",
    "data.loc[ data.Genre.apply(lambda x: bool(r.match(x))), 'Drama_Ind'] = 1\n",
    "\n",
    "data['Thriller_Ind'] = 0 \n",
    "r = re.compile(r'.*(Thriller).*')\n",
    "data.loc[ data.Genre.apply(lambda x: bool(r.match(x))), 'Thriller_Ind'] = 1\n",
    " \n",
    "data['Fantasy_Ind'] = 0 \n",
    "r = re.compile(r'.*(Fantasy).*')\n",
    "data.loc[ data.Genre.apply(lambda x: bool(r.match(x))), 'Fantasy_Ind'] = 1\n",
    "\n",
    "data['Crime_Ind'] = 0 \n",
    "r = re.compile(r'.*(Crime).*')\n",
    "data.loc[ data.Genre.apply(lambda x: bool(r.match(x))), 'Crime_Ind'] = 1\n",
    "\n",
    "data['Sport_Ind'] = 0 \n",
    "r = re.compile(r'.*(Sport).*')\n",
    "data.loc[ data.Genre.apply(lambda x: bool(r.match(x))), 'Sport_Ind'] = 1\n",
    "\n",
    "data['Historical_Ind'] = 0 \n",
    "r = re.compile(r'.*(Historical).*')\n",
    "data.loc[ data.Genre.apply(lambda x: bool(r.match(x))), 'Historical_Ind'] = 1\n",
    "\n",
    "\n",
    "data['Mystery_Ind'] = 0 \n",
    "r = re.compile(r'.*(Mystery).*')\n",
    "data.loc[ data.Genre.apply(lambda x: bool(r.match(x))), 'Mystery_Ind'] = 1\n",
    "\n",
    "\n",
    "data['Action_Ind'] = 0 \n",
    "r = re.compile(r'.*(Action).*')\n",
    "data.loc[ data.Genre.apply(lambda x: bool(r.match(x))), 'Action_Ind'] = 1\n",
    "\n",
    "\n",
    "data['Musical_Ind'] = 0 \n",
    "r = re.compile(r'.*(Musical).*')\n",
    "data.loc[ data.Genre.apply(lambda x: bool(r.match(x))), 'Musical_Ind'] = 1\n",
    "\n",
    "\n",
    "data['SciFi_Ind'] = 0 \n",
    "r = re.compile(r'.*(Sci).*')\n",
    "data.loc[ data.Genre.apply(lambda x: bool(r.match(x))), 'SciFi_Ind'] = 1\n",
    "\n",
    "data['Other_Ind'] = 0\n",
    "data.loc[ (data['Romance_Ind'] == 0) & (data['Comedy_Ind'] == 0) & (data['Drama_Ind'] == 0) & \\\n",
    "          (data['Thriller_Ind'] == 0) & (data['Fantasy_Ind'] == 0) & (data['Crime_Ind'] == 0) & \\\n",
    "         (data['Sport_Ind'] == 0) & (data['Historical_Ind'] == 0) & (data['Mystery_Ind'] == 0) & \\\n",
    "         (data['Action_Ind'] == 0) & (data['Musical_Ind'] == 0 ) & (data['SciFi_Ind'] == 0)\n",
    "         , 'Other_Ind'] = 1\n",
    "\n"
   ]
  },
  {
   "cell_type": "code",
   "execution_count": 60,
   "metadata": {},
   "outputs": [
    {
     "data": {
      "text/html": [
       "<div>\n",
       "<style scoped>\n",
       "    .dataframe tbody tr th:only-of-type {\n",
       "        vertical-align: middle;\n",
       "    }\n",
       "\n",
       "    .dataframe tbody tr th {\n",
       "        vertical-align: top;\n",
       "    }\n",
       "\n",
       "    .dataframe thead th {\n",
       "        text-align: right;\n",
       "    }\n",
       "</style>\n",
       "<table border=\"1\" class=\"dataframe\">\n",
       "  <thead>\n",
       "    <tr style=\"text-align: right;\">\n",
       "      <th></th>\n",
       "      <th>Name</th>\n",
       "      <th>Rating</th>\n",
       "      <th>WatchDate</th>\n",
       "      <th>ReleaseYear</th>\n",
       "      <th>Director</th>\n",
       "      <th>Genre</th>\n",
       "      <th>WatchMonth</th>\n",
       "      <th>Genre1</th>\n",
       "      <th>Genre2</th>\n",
       "      <th>Romance_Ind</th>\n",
       "      <th>Comedy_Ind</th>\n",
       "      <th>Drama_Ind</th>\n",
       "      <th>Thriller_Ind</th>\n",
       "      <th>Fantasy_Ind</th>\n",
       "      <th>Crime_Ind</th>\n",
       "      <th>Sport_Ind</th>\n",
       "      <th>Historical_Ind</th>\n",
       "      <th>Mystery_Ind</th>\n",
       "      <th>Action_Ind</th>\n",
       "      <th>Musical_Ind</th>\n",
       "      <th>SciFi_Ind</th>\n",
       "      <th>Other_Ind</th>\n",
       "    </tr>\n",
       "  </thead>\n",
       "  <tbody>\n",
       "    <tr>\n",
       "      <th>0</th>\n",
       "      <td>Star Wars VII: The Force Awakens</td>\n",
       "      <td>0.85</td>\n",
       "      <td>2016-01-01</td>\n",
       "      <td>2015</td>\n",
       "      <td>Abrams</td>\n",
       "      <td>Fantasy/ScienceFiction</td>\n",
       "      <td>2016-01-01</td>\n",
       "      <td>Fantasy</td>\n",
       "      <td>ScienceFiction</td>\n",
       "      <td>0</td>\n",
       "      <td>0</td>\n",
       "      <td>0</td>\n",
       "      <td>0</td>\n",
       "      <td>1</td>\n",
       "      <td>0</td>\n",
       "      <td>0</td>\n",
       "      <td>0</td>\n",
       "      <td>0</td>\n",
       "      <td>0</td>\n",
       "      <td>0</td>\n",
       "      <td>1</td>\n",
       "      <td>0</td>\n",
       "    </tr>\n",
       "    <tr>\n",
       "      <th>1</th>\n",
       "      <td>Hunger Games 3b</td>\n",
       "      <td>0.65</td>\n",
       "      <td>2016-01-04</td>\n",
       "      <td>2015</td>\n",
       "      <td>Lawrence</td>\n",
       "      <td>Fantasy/Drama</td>\n",
       "      <td>2016-01-01</td>\n",
       "      <td>Fantasy</td>\n",
       "      <td>Drama</td>\n",
       "      <td>0</td>\n",
       "      <td>0</td>\n",
       "      <td>1</td>\n",
       "      <td>0</td>\n",
       "      <td>1</td>\n",
       "      <td>0</td>\n",
       "      <td>0</td>\n",
       "      <td>0</td>\n",
       "      <td>0</td>\n",
       "      <td>0</td>\n",
       "      <td>0</td>\n",
       "      <td>0</td>\n",
       "      <td>0</td>\n",
       "    </tr>\n",
       "    <tr>\n",
       "      <th>2</th>\n",
       "      <td>Along Came Polly</td>\n",
       "      <td>0.65</td>\n",
       "      <td>2016-01-08</td>\n",
       "      <td>2004</td>\n",
       "      <td>Hamburg</td>\n",
       "      <td>Romance/Comedy</td>\n",
       "      <td>2016-01-01</td>\n",
       "      <td>Romance</td>\n",
       "      <td>Comedy</td>\n",
       "      <td>1</td>\n",
       "      <td>1</td>\n",
       "      <td>0</td>\n",
       "      <td>0</td>\n",
       "      <td>0</td>\n",
       "      <td>0</td>\n",
       "      <td>0</td>\n",
       "      <td>0</td>\n",
       "      <td>0</td>\n",
       "      <td>0</td>\n",
       "      <td>0</td>\n",
       "      <td>0</td>\n",
       "      <td>0</td>\n",
       "    </tr>\n",
       "    <tr>\n",
       "      <th>3</th>\n",
       "      <td>Forrest Gump</td>\n",
       "      <td>0.95</td>\n",
       "      <td>2016-01-10</td>\n",
       "      <td>1994</td>\n",
       "      <td>Zemeckis</td>\n",
       "      <td>Comedy/Drama</td>\n",
       "      <td>2016-01-01</td>\n",
       "      <td>Comedy</td>\n",
       "      <td>Drama</td>\n",
       "      <td>0</td>\n",
       "      <td>1</td>\n",
       "      <td>1</td>\n",
       "      <td>0</td>\n",
       "      <td>0</td>\n",
       "      <td>0</td>\n",
       "      <td>0</td>\n",
       "      <td>0</td>\n",
       "      <td>0</td>\n",
       "      <td>0</td>\n",
       "      <td>0</td>\n",
       "      <td>0</td>\n",
       "      <td>0</td>\n",
       "    </tr>\n",
       "    <tr>\n",
       "      <th>4</th>\n",
       "      <td>The Big Short</td>\n",
       "      <td>0.95</td>\n",
       "      <td>2016-01-14</td>\n",
       "      <td>2015</td>\n",
       "      <td>McKay</td>\n",
       "      <td>Comedy/Drama</td>\n",
       "      <td>2016-01-01</td>\n",
       "      <td>Comedy</td>\n",
       "      <td>Drama</td>\n",
       "      <td>0</td>\n",
       "      <td>1</td>\n",
       "      <td>1</td>\n",
       "      <td>0</td>\n",
       "      <td>0</td>\n",
       "      <td>0</td>\n",
       "      <td>0</td>\n",
       "      <td>0</td>\n",
       "      <td>0</td>\n",
       "      <td>0</td>\n",
       "      <td>0</td>\n",
       "      <td>0</td>\n",
       "      <td>0</td>\n",
       "    </tr>\n",
       "  </tbody>\n",
       "</table>\n",
       "</div>"
      ],
      "text/plain": [
       "                               Name  Rating  WatchDate  ReleaseYear  Director  \\\n",
       "0  Star Wars VII: The Force Awakens    0.85 2016-01-01         2015    Abrams   \n",
       "1                   Hunger Games 3b    0.65 2016-01-04         2015  Lawrence   \n",
       "2                  Along Came Polly    0.65 2016-01-08         2004   Hamburg   \n",
       "3                      Forrest Gump    0.95 2016-01-10         1994  Zemeckis   \n",
       "4                     The Big Short    0.95 2016-01-14         2015     McKay   \n",
       "\n",
       "                    Genre WatchMonth   Genre1          Genre2  Romance_Ind  \\\n",
       "0  Fantasy/ScienceFiction 2016-01-01  Fantasy  ScienceFiction            0   \n",
       "1           Fantasy/Drama 2016-01-01  Fantasy           Drama            0   \n",
       "2          Romance/Comedy 2016-01-01  Romance          Comedy            1   \n",
       "3            Comedy/Drama 2016-01-01   Comedy           Drama            0   \n",
       "4            Comedy/Drama 2016-01-01   Comedy           Drama            0   \n",
       "\n",
       "   Comedy_Ind  Drama_Ind  Thriller_Ind  Fantasy_Ind  Crime_Ind  Sport_Ind  \\\n",
       "0           0          0             0            1          0          0   \n",
       "1           0          1             0            1          0          0   \n",
       "2           1          0             0            0          0          0   \n",
       "3           1          1             0            0          0          0   \n",
       "4           1          1             0            0          0          0   \n",
       "\n",
       "   Historical_Ind  Mystery_Ind  Action_Ind  Musical_Ind  SciFi_Ind  Other_Ind  \n",
       "0               0            0           0            0          1          0  \n",
       "1               0            0           0            0          0          0  \n",
       "2               0            0           0            0          0          0  \n",
       "3               0            0           0            0          0          0  \n",
       "4               0            0           0            0          0          0  "
      ]
     },
     "execution_count": 60,
     "metadata": {},
     "output_type": "execute_result"
    }
   ],
   "source": [
    "data.head()"
   ]
  },
  {
   "cell_type": "code",
   "execution_count": 61,
   "metadata": {},
   "outputs": [
    {
     "data": {
      "text/html": [
       "<div>\n",
       "<style scoped>\n",
       "    .dataframe tbody tr th:only-of-type {\n",
       "        vertical-align: middle;\n",
       "    }\n",
       "\n",
       "    .dataframe tbody tr th {\n",
       "        vertical-align: top;\n",
       "    }\n",
       "\n",
       "    .dataframe thead th {\n",
       "        text-align: right;\n",
       "    }\n",
       "</style>\n",
       "<table border=\"1\" class=\"dataframe\">\n",
       "  <thead>\n",
       "    <tr style=\"text-align: right;\">\n",
       "      <th></th>\n",
       "      <th>Rating</th>\n",
       "      <th>ReleaseYear</th>\n",
       "      <th>Romance_Ind</th>\n",
       "      <th>Comedy_Ind</th>\n",
       "      <th>Drama_Ind</th>\n",
       "      <th>Thriller_Ind</th>\n",
       "      <th>Fantasy_Ind</th>\n",
       "      <th>Crime_Ind</th>\n",
       "      <th>Sport_Ind</th>\n",
       "      <th>Historical_Ind</th>\n",
       "      <th>Mystery_Ind</th>\n",
       "      <th>Action_Ind</th>\n",
       "      <th>Musical_Ind</th>\n",
       "      <th>SciFi_Ind</th>\n",
       "      <th>Other_Ind</th>\n",
       "    </tr>\n",
       "  </thead>\n",
       "  <tbody>\n",
       "    <tr>\n",
       "      <th>count</th>\n",
       "      <td>157.000000</td>\n",
       "      <td>157.000000</td>\n",
       "      <td>157.000000</td>\n",
       "      <td>157.000000</td>\n",
       "      <td>157.000000</td>\n",
       "      <td>157.000000</td>\n",
       "      <td>157.000000</td>\n",
       "      <td>157.000000</td>\n",
       "      <td>157.000000</td>\n",
       "      <td>157.000000</td>\n",
       "      <td>157.000000</td>\n",
       "      <td>157.000000</td>\n",
       "      <td>157.000000</td>\n",
       "      <td>157.000000</td>\n",
       "      <td>157.000000</td>\n",
       "    </tr>\n",
       "    <tr>\n",
       "      <th>mean</th>\n",
       "      <td>0.795987</td>\n",
       "      <td>1994.070064</td>\n",
       "      <td>0.242038</td>\n",
       "      <td>0.318471</td>\n",
       "      <td>0.560510</td>\n",
       "      <td>0.082803</td>\n",
       "      <td>0.070064</td>\n",
       "      <td>0.057325</td>\n",
       "      <td>0.050955</td>\n",
       "      <td>0.044586</td>\n",
       "      <td>0.108280</td>\n",
       "      <td>0.044586</td>\n",
       "      <td>0.070064</td>\n",
       "      <td>0.070064</td>\n",
       "      <td>0.025478</td>\n",
       "    </tr>\n",
       "    <tr>\n",
       "      <th>std</th>\n",
       "      <td>0.132112</td>\n",
       "      <td>25.775439</td>\n",
       "      <td>0.429688</td>\n",
       "      <td>0.467374</td>\n",
       "      <td>0.497913</td>\n",
       "      <td>0.276465</td>\n",
       "      <td>0.256071</td>\n",
       "      <td>0.233206</td>\n",
       "      <td>0.220610</td>\n",
       "      <td>0.207053</td>\n",
       "      <td>0.311728</td>\n",
       "      <td>0.207053</td>\n",
       "      <td>0.256071</td>\n",
       "      <td>0.256071</td>\n",
       "      <td>0.158075</td>\n",
       "    </tr>\n",
       "    <tr>\n",
       "      <th>min</th>\n",
       "      <td>0.300000</td>\n",
       "      <td>1923.000000</td>\n",
       "      <td>0.000000</td>\n",
       "      <td>0.000000</td>\n",
       "      <td>0.000000</td>\n",
       "      <td>0.000000</td>\n",
       "      <td>0.000000</td>\n",
       "      <td>0.000000</td>\n",
       "      <td>0.000000</td>\n",
       "      <td>0.000000</td>\n",
       "      <td>0.000000</td>\n",
       "      <td>0.000000</td>\n",
       "      <td>0.000000</td>\n",
       "      <td>0.000000</td>\n",
       "      <td>0.000000</td>\n",
       "    </tr>\n",
       "    <tr>\n",
       "      <th>25%</th>\n",
       "      <td>0.720000</td>\n",
       "      <td>1977.000000</td>\n",
       "      <td>0.000000</td>\n",
       "      <td>0.000000</td>\n",
       "      <td>0.000000</td>\n",
       "      <td>0.000000</td>\n",
       "      <td>0.000000</td>\n",
       "      <td>0.000000</td>\n",
       "      <td>0.000000</td>\n",
       "      <td>0.000000</td>\n",
       "      <td>0.000000</td>\n",
       "      <td>0.000000</td>\n",
       "      <td>0.000000</td>\n",
       "      <td>0.000000</td>\n",
       "      <td>0.000000</td>\n",
       "    </tr>\n",
       "    <tr>\n",
       "      <th>50%</th>\n",
       "      <td>0.850000</td>\n",
       "      <td>2003.000000</td>\n",
       "      <td>0.000000</td>\n",
       "      <td>0.000000</td>\n",
       "      <td>1.000000</td>\n",
       "      <td>0.000000</td>\n",
       "      <td>0.000000</td>\n",
       "      <td>0.000000</td>\n",
       "      <td>0.000000</td>\n",
       "      <td>0.000000</td>\n",
       "      <td>0.000000</td>\n",
       "      <td>0.000000</td>\n",
       "      <td>0.000000</td>\n",
       "      <td>0.000000</td>\n",
       "      <td>0.000000</td>\n",
       "    </tr>\n",
       "    <tr>\n",
       "      <th>75%</th>\n",
       "      <td>0.900000</td>\n",
       "      <td>2016.000000</td>\n",
       "      <td>0.000000</td>\n",
       "      <td>1.000000</td>\n",
       "      <td>1.000000</td>\n",
       "      <td>0.000000</td>\n",
       "      <td>0.000000</td>\n",
       "      <td>0.000000</td>\n",
       "      <td>0.000000</td>\n",
       "      <td>0.000000</td>\n",
       "      <td>0.000000</td>\n",
       "      <td>0.000000</td>\n",
       "      <td>0.000000</td>\n",
       "      <td>0.000000</td>\n",
       "      <td>0.000000</td>\n",
       "    </tr>\n",
       "    <tr>\n",
       "      <th>max</th>\n",
       "      <td>0.990000</td>\n",
       "      <td>2020.000000</td>\n",
       "      <td>1.000000</td>\n",
       "      <td>1.000000</td>\n",
       "      <td>1.000000</td>\n",
       "      <td>1.000000</td>\n",
       "      <td>1.000000</td>\n",
       "      <td>1.000000</td>\n",
       "      <td>1.000000</td>\n",
       "      <td>1.000000</td>\n",
       "      <td>1.000000</td>\n",
       "      <td>1.000000</td>\n",
       "      <td>1.000000</td>\n",
       "      <td>1.000000</td>\n",
       "      <td>1.000000</td>\n",
       "    </tr>\n",
       "  </tbody>\n",
       "</table>\n",
       "</div>"
      ],
      "text/plain": [
       "           Rating  ReleaseYear  Romance_Ind  Comedy_Ind   Drama_Ind  \\\n",
       "count  157.000000   157.000000   157.000000  157.000000  157.000000   \n",
       "mean     0.795987  1994.070064     0.242038    0.318471    0.560510   \n",
       "std      0.132112    25.775439     0.429688    0.467374    0.497913   \n",
       "min      0.300000  1923.000000     0.000000    0.000000    0.000000   \n",
       "25%      0.720000  1977.000000     0.000000    0.000000    0.000000   \n",
       "50%      0.850000  2003.000000     0.000000    0.000000    1.000000   \n",
       "75%      0.900000  2016.000000     0.000000    1.000000    1.000000   \n",
       "max      0.990000  2020.000000     1.000000    1.000000    1.000000   \n",
       "\n",
       "       Thriller_Ind  Fantasy_Ind   Crime_Ind   Sport_Ind  Historical_Ind  \\\n",
       "count    157.000000   157.000000  157.000000  157.000000      157.000000   \n",
       "mean       0.082803     0.070064    0.057325    0.050955        0.044586   \n",
       "std        0.276465     0.256071    0.233206    0.220610        0.207053   \n",
       "min        0.000000     0.000000    0.000000    0.000000        0.000000   \n",
       "25%        0.000000     0.000000    0.000000    0.000000        0.000000   \n",
       "50%        0.000000     0.000000    0.000000    0.000000        0.000000   \n",
       "75%        0.000000     0.000000    0.000000    0.000000        0.000000   \n",
       "max        1.000000     1.000000    1.000000    1.000000        1.000000   \n",
       "\n",
       "       Mystery_Ind  Action_Ind  Musical_Ind   SciFi_Ind   Other_Ind  \n",
       "count   157.000000  157.000000   157.000000  157.000000  157.000000  \n",
       "mean      0.108280    0.044586     0.070064    0.070064    0.025478  \n",
       "std       0.311728    0.207053     0.256071    0.256071    0.158075  \n",
       "min       0.000000    0.000000     0.000000    0.000000    0.000000  \n",
       "25%       0.000000    0.000000     0.000000    0.000000    0.000000  \n",
       "50%       0.000000    0.000000     0.000000    0.000000    0.000000  \n",
       "75%       0.000000    0.000000     0.000000    0.000000    0.000000  \n",
       "max       1.000000    1.000000     1.000000    1.000000    1.000000  "
      ]
     },
     "execution_count": 61,
     "metadata": {},
     "output_type": "execute_result"
    }
   ],
   "source": [
    "data.describe()"
   ]
  },
  {
   "cell_type": "code",
   "execution_count": 66,
   "metadata": {},
   "outputs": [
    {
     "data": {
      "text/plain": [
       "Romance_Ind       38\n",
       "Comedy_Ind        50\n",
       "Drama_Ind         88\n",
       "Thriller_Ind      13\n",
       "Fantasy_Ind       11\n",
       "Crime_Ind          9\n",
       "Sport_Ind          8\n",
       "Historical_Ind     7\n",
       "Mystery_Ind       17\n",
       "Action_Ind         7\n",
       "Musical_Ind       11\n",
       "SciFi_Ind         11\n",
       "Other_Ind          4\n",
       "dtype: int64"
      ]
     },
     "execution_count": 66,
     "metadata": {},
     "output_type": "execute_result"
    }
   ],
   "source": [
    "data.iloc[:, 8:].sum()"
   ]
  },
  {
   "cell_type": "code",
   "execution_count": 67,
   "metadata": {},
   "outputs": [
    {
     "data": {
      "text/plain": [
       "Index(['Name', 'Rating', 'WatchDate', 'ReleaseYear', 'Director', 'Genre',\n",
       "       'WatchMonth', 'Genre1', 'Genre2', 'Romance_Ind', 'Comedy_Ind',\n",
       "       'Drama_Ind', 'Thriller_Ind', 'Fantasy_Ind', 'Crime_Ind', 'Sport_Ind',\n",
       "       'Historical_Ind', 'Mystery_Ind', 'Action_Ind', 'Musical_Ind',\n",
       "       'SciFi_Ind', 'Other_Ind'],\n",
       "      dtype='object')"
      ]
     },
     "execution_count": 67,
     "metadata": {},
     "output_type": "execute_result"
    }
   ],
   "source": [
    "data.columns"
   ]
  },
  {
   "cell_type": "code",
   "execution_count": 63,
   "metadata": {},
   "outputs": [
    {
     "data": {
      "text/html": [
       "<div>\n",
       "<style scoped>\n",
       "    .dataframe tbody tr th:only-of-type {\n",
       "        vertical-align: middle;\n",
       "    }\n",
       "\n",
       "    .dataframe tbody tr th {\n",
       "        vertical-align: top;\n",
       "    }\n",
       "\n",
       "    .dataframe thead th {\n",
       "        text-align: right;\n",
       "    }\n",
       "</style>\n",
       "<table border=\"1\" class=\"dataframe\">\n",
       "  <thead>\n",
       "    <tr style=\"text-align: right;\">\n",
       "      <th></th>\n",
       "      <th>Name</th>\n",
       "      <th>Rating</th>\n",
       "      <th>WatchDate</th>\n",
       "      <th>ReleaseYear</th>\n",
       "      <th>Director</th>\n",
       "      <th>Genre</th>\n",
       "      <th>WatchMonth</th>\n",
       "      <th>Genre1</th>\n",
       "      <th>Genre2</th>\n",
       "      <th>Romance_Ind</th>\n",
       "      <th>Comedy_Ind</th>\n",
       "      <th>Drama_Ind</th>\n",
       "      <th>Thriller_Ind</th>\n",
       "      <th>Fantasy_Ind</th>\n",
       "      <th>Crime_Ind</th>\n",
       "      <th>Sport_Ind</th>\n",
       "      <th>Historical_Ind</th>\n",
       "      <th>Mystery_Ind</th>\n",
       "      <th>Action_Ind</th>\n",
       "      <th>Musical_Ind</th>\n",
       "      <th>SciFi_Ind</th>\n",
       "      <th>Other_Ind</th>\n",
       "    </tr>\n",
       "  </thead>\n",
       "  <tbody>\n",
       "    <tr>\n",
       "      <th>0</th>\n",
       "      <td>Star Wars VII: The Force Awakens</td>\n",
       "      <td>0.85</td>\n",
       "      <td>2016-01-01</td>\n",
       "      <td>2015</td>\n",
       "      <td>Abrams</td>\n",
       "      <td>Fantasy/ScienceFiction</td>\n",
       "      <td>2016-01-01</td>\n",
       "      <td>Fantasy</td>\n",
       "      <td>ScienceFiction</td>\n",
       "      <td>0</td>\n",
       "      <td>0</td>\n",
       "      <td>0</td>\n",
       "      <td>0</td>\n",
       "      <td>1</td>\n",
       "      <td>0</td>\n",
       "      <td>0</td>\n",
       "      <td>0</td>\n",
       "      <td>0</td>\n",
       "      <td>0</td>\n",
       "      <td>0</td>\n",
       "      <td>1</td>\n",
       "      <td>0</td>\n",
       "    </tr>\n",
       "    <tr>\n",
       "      <th>1</th>\n",
       "      <td>Hunger Games 3b</td>\n",
       "      <td>0.65</td>\n",
       "      <td>2016-01-04</td>\n",
       "      <td>2015</td>\n",
       "      <td>Lawrence</td>\n",
       "      <td>Fantasy/Drama</td>\n",
       "      <td>2016-01-01</td>\n",
       "      <td>Fantasy</td>\n",
       "      <td>Drama</td>\n",
       "      <td>0</td>\n",
       "      <td>0</td>\n",
       "      <td>1</td>\n",
       "      <td>0</td>\n",
       "      <td>1</td>\n",
       "      <td>0</td>\n",
       "      <td>0</td>\n",
       "      <td>0</td>\n",
       "      <td>0</td>\n",
       "      <td>0</td>\n",
       "      <td>0</td>\n",
       "      <td>0</td>\n",
       "      <td>0</td>\n",
       "    </tr>\n",
       "    <tr>\n",
       "      <th>2</th>\n",
       "      <td>Along Came Polly</td>\n",
       "      <td>0.65</td>\n",
       "      <td>2016-01-08</td>\n",
       "      <td>2004</td>\n",
       "      <td>Hamburg</td>\n",
       "      <td>Romance/Comedy</td>\n",
       "      <td>2016-01-01</td>\n",
       "      <td>Romance</td>\n",
       "      <td>Comedy</td>\n",
       "      <td>1</td>\n",
       "      <td>1</td>\n",
       "      <td>0</td>\n",
       "      <td>0</td>\n",
       "      <td>0</td>\n",
       "      <td>0</td>\n",
       "      <td>0</td>\n",
       "      <td>0</td>\n",
       "      <td>0</td>\n",
       "      <td>0</td>\n",
       "      <td>0</td>\n",
       "      <td>0</td>\n",
       "      <td>0</td>\n",
       "    </tr>\n",
       "    <tr>\n",
       "      <th>3</th>\n",
       "      <td>Forrest Gump</td>\n",
       "      <td>0.95</td>\n",
       "      <td>2016-01-10</td>\n",
       "      <td>1994</td>\n",
       "      <td>Zemeckis</td>\n",
       "      <td>Comedy/Drama</td>\n",
       "      <td>2016-01-01</td>\n",
       "      <td>Comedy</td>\n",
       "      <td>Drama</td>\n",
       "      <td>0</td>\n",
       "      <td>1</td>\n",
       "      <td>1</td>\n",
       "      <td>0</td>\n",
       "      <td>0</td>\n",
       "      <td>0</td>\n",
       "      <td>0</td>\n",
       "      <td>0</td>\n",
       "      <td>0</td>\n",
       "      <td>0</td>\n",
       "      <td>0</td>\n",
       "      <td>0</td>\n",
       "      <td>0</td>\n",
       "    </tr>\n",
       "    <tr>\n",
       "      <th>4</th>\n",
       "      <td>The Big Short</td>\n",
       "      <td>0.95</td>\n",
       "      <td>2016-01-14</td>\n",
       "      <td>2015</td>\n",
       "      <td>McKay</td>\n",
       "      <td>Comedy/Drama</td>\n",
       "      <td>2016-01-01</td>\n",
       "      <td>Comedy</td>\n",
       "      <td>Drama</td>\n",
       "      <td>0</td>\n",
       "      <td>1</td>\n",
       "      <td>1</td>\n",
       "      <td>0</td>\n",
       "      <td>0</td>\n",
       "      <td>0</td>\n",
       "      <td>0</td>\n",
       "      <td>0</td>\n",
       "      <td>0</td>\n",
       "      <td>0</td>\n",
       "      <td>0</td>\n",
       "      <td>0</td>\n",
       "      <td>0</td>\n",
       "    </tr>\n",
       "  </tbody>\n",
       "</table>\n",
       "</div>"
      ],
      "text/plain": [
       "                               Name  Rating  WatchDate  ReleaseYear  Director  \\\n",
       "0  Star Wars VII: The Force Awakens    0.85 2016-01-01         2015    Abrams   \n",
       "1                   Hunger Games 3b    0.65 2016-01-04         2015  Lawrence   \n",
       "2                  Along Came Polly    0.65 2016-01-08         2004   Hamburg   \n",
       "3                      Forrest Gump    0.95 2016-01-10         1994  Zemeckis   \n",
       "4                     The Big Short    0.95 2016-01-14         2015     McKay   \n",
       "\n",
       "                    Genre WatchMonth   Genre1          Genre2  Romance_Ind  \\\n",
       "0  Fantasy/ScienceFiction 2016-01-01  Fantasy  ScienceFiction            0   \n",
       "1           Fantasy/Drama 2016-01-01  Fantasy           Drama            0   \n",
       "2          Romance/Comedy 2016-01-01  Romance          Comedy            1   \n",
       "3            Comedy/Drama 2016-01-01   Comedy           Drama            0   \n",
       "4            Comedy/Drama 2016-01-01   Comedy           Drama            0   \n",
       "\n",
       "   Comedy_Ind  Drama_Ind  Thriller_Ind  Fantasy_Ind  Crime_Ind  Sport_Ind  \\\n",
       "0           0          0             0            1          0          0   \n",
       "1           0          1             0            1          0          0   \n",
       "2           1          0             0            0          0          0   \n",
       "3           1          1             0            0          0          0   \n",
       "4           1          1             0            0          0          0   \n",
       "\n",
       "   Historical_Ind  Mystery_Ind  Action_Ind  Musical_Ind  SciFi_Ind  Other_Ind  \n",
       "0               0            0           0            0          1          0  \n",
       "1               0            0           0            0          0          0  \n",
       "2               0            0           0            0          0          0  \n",
       "3               0            0           0            0          0          0  \n",
       "4               0            0           0            0          0          0  "
      ]
     },
     "execution_count": 63,
     "metadata": {},
     "output_type": "execute_result"
    }
   ],
   "source": [
    "data.head()"
   ]
  },
  {
   "cell_type": "markdown",
   "metadata": {},
   "source": [
    "#### Split the Data"
   ]
  },
  {
   "cell_type": "code",
   "execution_count": 72,
   "metadata": {},
   "outputs": [],
   "source": [
    "X = data.loc[:, ['ReleaseYear','Romance_Ind', 'Comedy_Ind',\n",
    "       'Drama_Ind', 'Thriller_Ind', 'Fantasy_Ind', 'Crime_Ind', 'Sport_Ind',\n",
    "       'Historical_Ind', 'Mystery_Ind', 'Action_Ind', 'Musical_Ind',\n",
    "       'SciFi_Ind', 'Other_Ind']]\n",
    "y = data.loc[:, ['Rating']]\n",
    "\n",
    "X_Train, X_Test, Y_Train, Y_Test = train_test_split(X, y, test_size = .30, train_size = .70, random_state = 42)\n",
    "    "
   ]
  },
  {
   "cell_type": "code",
   "execution_count": 73,
   "metadata": {},
   "outputs": [
    {
     "data": {
      "text/html": [
       "<div>\n",
       "<style scoped>\n",
       "    .dataframe tbody tr th:only-of-type {\n",
       "        vertical-align: middle;\n",
       "    }\n",
       "\n",
       "    .dataframe tbody tr th {\n",
       "        vertical-align: top;\n",
       "    }\n",
       "\n",
       "    .dataframe thead th {\n",
       "        text-align: right;\n",
       "    }\n",
       "</style>\n",
       "<table border=\"1\" class=\"dataframe\">\n",
       "  <thead>\n",
       "    <tr style=\"text-align: right;\">\n",
       "      <th></th>\n",
       "      <th>ReleaseYear</th>\n",
       "      <th>Romance_Ind</th>\n",
       "      <th>Comedy_Ind</th>\n",
       "      <th>Drama_Ind</th>\n",
       "      <th>Thriller_Ind</th>\n",
       "      <th>Fantasy_Ind</th>\n",
       "      <th>Crime_Ind</th>\n",
       "      <th>Sport_Ind</th>\n",
       "      <th>Historical_Ind</th>\n",
       "      <th>Mystery_Ind</th>\n",
       "      <th>Action_Ind</th>\n",
       "      <th>Musical_Ind</th>\n",
       "      <th>SciFi_Ind</th>\n",
       "      <th>Other_Ind</th>\n",
       "    </tr>\n",
       "  </thead>\n",
       "  <tbody>\n",
       "    <tr>\n",
       "      <th>140</th>\n",
       "      <td>2017</td>\n",
       "      <td>0</td>\n",
       "      <td>0</td>\n",
       "      <td>1</td>\n",
       "      <td>0</td>\n",
       "      <td>0</td>\n",
       "      <td>0</td>\n",
       "      <td>1</td>\n",
       "      <td>0</td>\n",
       "      <td>0</td>\n",
       "      <td>0</td>\n",
       "      <td>0</td>\n",
       "      <td>0</td>\n",
       "      <td>0</td>\n",
       "    </tr>\n",
       "    <tr>\n",
       "      <th>11</th>\n",
       "      <td>2005</td>\n",
       "      <td>0</td>\n",
       "      <td>0</td>\n",
       "      <td>1</td>\n",
       "      <td>0</td>\n",
       "      <td>0</td>\n",
       "      <td>0</td>\n",
       "      <td>0</td>\n",
       "      <td>0</td>\n",
       "      <td>1</td>\n",
       "      <td>0</td>\n",
       "      <td>0</td>\n",
       "      <td>0</td>\n",
       "      <td>0</td>\n",
       "    </tr>\n",
       "    <tr>\n",
       "      <th>79</th>\n",
       "      <td>2018</td>\n",
       "      <td>0</td>\n",
       "      <td>0</td>\n",
       "      <td>1</td>\n",
       "      <td>0</td>\n",
       "      <td>0</td>\n",
       "      <td>0</td>\n",
       "      <td>0</td>\n",
       "      <td>1</td>\n",
       "      <td>0</td>\n",
       "      <td>0</td>\n",
       "      <td>0</td>\n",
       "      <td>0</td>\n",
       "      <td>0</td>\n",
       "    </tr>\n",
       "    <tr>\n",
       "      <th>68</th>\n",
       "      <td>2018</td>\n",
       "      <td>0</td>\n",
       "      <td>0</td>\n",
       "      <td>0</td>\n",
       "      <td>0</td>\n",
       "      <td>0</td>\n",
       "      <td>0</td>\n",
       "      <td>0</td>\n",
       "      <td>0</td>\n",
       "      <td>0</td>\n",
       "      <td>1</td>\n",
       "      <td>0</td>\n",
       "      <td>1</td>\n",
       "      <td>0</td>\n",
       "    </tr>\n",
       "    <tr>\n",
       "      <th>149</th>\n",
       "      <td>1989</td>\n",
       "      <td>0</td>\n",
       "      <td>0</td>\n",
       "      <td>0</td>\n",
       "      <td>0</td>\n",
       "      <td>0</td>\n",
       "      <td>0</td>\n",
       "      <td>0</td>\n",
       "      <td>0</td>\n",
       "      <td>0</td>\n",
       "      <td>0</td>\n",
       "      <td>0</td>\n",
       "      <td>1</td>\n",
       "      <td>0</td>\n",
       "    </tr>\n",
       "  </tbody>\n",
       "</table>\n",
       "</div>"
      ],
      "text/plain": [
       "     ReleaseYear  Romance_Ind  Comedy_Ind  Drama_Ind  Thriller_Ind  \\\n",
       "140         2017            0           0          1             0   \n",
       "11          2005            0           0          1             0   \n",
       "79          2018            0           0          1             0   \n",
       "68          2018            0           0          0             0   \n",
       "149         1989            0           0          0             0   \n",
       "\n",
       "     Fantasy_Ind  Crime_Ind  Sport_Ind  Historical_Ind  Mystery_Ind  \\\n",
       "140            0          0          1               0            0   \n",
       "11             0          0          0               0            1   \n",
       "79             0          0          0               1            0   \n",
       "68             0          0          0               0            0   \n",
       "149            0          0          0               0            0   \n",
       "\n",
       "     Action_Ind  Musical_Ind  SciFi_Ind  Other_Ind  \n",
       "140           0            0          0          0  \n",
       "11            0            0          0          0  \n",
       "79            0            0          0          0  \n",
       "68            1            0          1          0  \n",
       "149           0            0          1          0  "
      ]
     },
     "execution_count": 73,
     "metadata": {},
     "output_type": "execute_result"
    }
   ],
   "source": [
    "X_Train.head()"
   ]
  },
  {
   "cell_type": "markdown",
   "metadata": {},
   "source": [
    "#### We can't do Clustering on a Binary Dataset. We will have to get something else - such as 'Sentiment Score' using NLP Methods. \n",
    "#### Get Sentiment using NLTK, then use that as an input to Clustering "
   ]
  },
  {
   "cell_type": "markdown",
   "metadata": {},
   "source": [
    "### Decision Tree on Binary Genre + Release Year Data "
   ]
  },
  {
   "cell_type": "markdown",
   "metadata": {},
   "source": [
    "Basic Decision Tree Model"
   ]
  },
  {
   "cell_type": "code",
   "execution_count": 103,
   "metadata": {},
   "outputs": [
    {
     "name": "stdout",
     "output_type": "stream",
     "text": [
      "R2 Score: -0.5435844370860925\n",
      "Mean Squared Error: 0.01294895833333333\n"
     ]
    }
   ],
   "source": [
    "dt_model = DecisionTreeRegressor(criterion = 'mse', splitter = 'best', \n",
    "                                 max_depth = None, min_samples_leaf = 1,\n",
    "                                 random_state = 42)\n",
    "\n",
    "dt_model.fit(X_Train, Y_Train)\n",
    "\n",
    "Y_Test_Pred = dt_model.predict(X_Test)\n",
    "\n",
    "print(\"R2 Score:\", r2_score(Y_Test, Y_Test_Pred))\n",
    "print(\"Mean Squared Error:\",mean_squared_error(Y_Test, Y_Test_Pred))"
   ]
  },
  {
   "cell_type": "markdown",
   "metadata": {},
   "source": [
    "Grid Search for Best Parameters"
   ]
  },
  {
   "cell_type": "code",
   "execution_count": 104,
   "metadata": {},
   "outputs": [],
   "source": [
    "def make_GridSearchCV_DT(X_Train, Y_Train):\n",
    "    \n",
    "    criterions = ['mse', 'mae','friedman_mse']\n",
    "    splitters = ['best', 'random']\n",
    "    max_depths = list(np.arange(1, 20, 2))\n",
    "    min_samples_leaf = list(np.arange(10, 20, 1))\n",
    "\n",
    "    param_grid = {'criterion': criterions, 'splitter': splitters, \n",
    "                  'max_depth': max_depths, \n",
    "                  'min_samples_leaf':min_samples_leaf}\n",
    "\n",
    "    classifier = GridSearchCV(DecisionTreeRegressor(random_state=42),\n",
    "                       param_grid=param_grid, \n",
    "                       #scoring='neg_mean_squared_error',\n",
    "                       scoring='r2',\n",
    "                       cv=5)\n",
    "    \n",
    "    classifier =  classifier.fit(X_Train, Y_Train)\n",
    "    print(classifier.best_score_)\n",
    "    print(classifier.best_params_)\n",
    "    \n"
   ]
  },
  {
   "cell_type": "code",
   "execution_count": 105,
   "metadata": {},
   "outputs": [
    {
     "name": "stdout",
     "output_type": "stream",
     "text": [
      "-0.13967487289417457\n",
      "{'criterion': 'mse', 'max_depth': 3, 'min_samples_leaf': 10, 'splitter': 'random'}\n"
     ]
    }
   ],
   "source": [
    "make_GridSearchCV_DT(X_Train, Y_Train)"
   ]
  },
  {
   "cell_type": "code",
   "execution_count": 106,
   "metadata": {},
   "outputs": [],
   "source": [
    "#import sklearn\n",
    "#sorted(sklearn.metrics.SCORERS.keys())"
   ]
  },
  {
   "cell_type": "code",
   "execution_count": 107,
   "metadata": {},
   "outputs": [
    {
     "name": "stdout",
     "output_type": "stream",
     "text": [
      "R2 Score: -0.2792096942717477\n",
      "Mean Squared Error: 0.010731147990835216\n"
     ]
    }
   ],
   "source": [
    "dt_model = DecisionTreeRegressor(criterion = 'mse', splitter = 'random', \n",
    "                                 max_depth = 3, min_samples_leaf = 10,\n",
    "                                 random_state = 42)\n",
    "\n",
    "dt_model.fit(X_Train, Y_Train)\n",
    "\n",
    "Y_Test_Pred = dt_model.predict(X_Test)\n",
    "\n",
    "print(\"R2 Score:\", r2_score(Y_Test, Y_Test_Pred))\n",
    "print(\"Mean Squared Error:\",mean_squared_error(Y_Test, Y_Test_Pred))"
   ]
  },
  {
   "cell_type": "code",
   "execution_count": null,
   "metadata": {},
   "outputs": [],
   "source": []
  },
  {
   "cell_type": "code",
   "execution_count": null,
   "metadata": {},
   "outputs": [],
   "source": []
  }
 ],
 "metadata": {
  "kernelspec": {
   "display_name": "Python 3",
   "language": "python",
   "name": "python3"
  },
  "language_info": {
   "codemirror_mode": {
    "name": "ipython",
    "version": 3
   },
   "file_extension": ".py",
   "mimetype": "text/x-python",
   "name": "python",
   "nbconvert_exporter": "python",
   "pygments_lexer": "ipython3",
   "version": "3.7.9"
  }
 },
 "nbformat": 4,
 "nbformat_minor": 4
}
